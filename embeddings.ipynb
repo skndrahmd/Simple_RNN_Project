{
 "cells": [
  {
   "cell_type": "code",
   "execution_count": 1,
   "metadata": {},
   "outputs": [
    {
     "name": "stderr",
     "output_type": "stream",
     "text": [
      "2024-10-03 08:46:43.160744: I tensorflow/core/util/port.cc:153] oneDNN custom operations are on. You may see slightly different numerical results due to floating-point round-off errors from different computation orders. To turn them off, set the environment variable `TF_ENABLE_ONEDNN_OPTS=0`.\n",
      "2024-10-03 08:46:43.161274: I external/local_xla/xla/tsl/cuda/cudart_stub.cc:32] Could not find cuda drivers on your machine, GPU will not be used.\n",
      "2024-10-03 08:46:43.164288: I external/local_xla/xla/tsl/cuda/cudart_stub.cc:32] Could not find cuda drivers on your machine, GPU will not be used.\n",
      "2024-10-03 08:46:43.171713: E external/local_xla/xla/stream_executor/cuda/cuda_fft.cc:485] Unable to register cuFFT factory: Attempting to register factory for plugin cuFFT when one has already been registered\n",
      "2024-10-03 08:46:43.185744: E external/local_xla/xla/stream_executor/cuda/cuda_dnn.cc:8454] Unable to register cuDNN factory: Attempting to register factory for plugin cuDNN when one has already been registered\n",
      "2024-10-03 08:46:43.189916: E external/local_xla/xla/stream_executor/cuda/cuda_blas.cc:1452] Unable to register cuBLAS factory: Attempting to register factory for plugin cuBLAS when one has already been registered\n",
      "2024-10-03 08:46:43.200199: I tensorflow/core/platform/cpu_feature_guard.cc:210] This TensorFlow binary is optimized to use available CPU instructions in performance-critical operations.\n",
      "To enable the following instructions: AVX2 AVX_VNNI FMA, in other operations, rebuild TensorFlow with the appropriate compiler flags.\n",
      "2024-10-03 08:46:43.961254: W tensorflow/compiler/tf2tensorrt/utils/py_utils.cc:38] TF-TRT Warning: Could not find TensorRT\n"
     ]
    }
   ],
   "source": [
    "import tensorflow as tf \n",
    "from tensorflow.keras.preprocessing.text import one_hot\n"
   ]
  },
  {
   "cell_type": "code",
   "execution_count": 2,
   "metadata": {},
   "outputs": [],
   "source": [
    "sent = [\n",
    "    'The quick brown fox jumps over the lazy dog',\n",
    "    'I love my dog',\n",
    "    'She loves her cat',\n",
    "    'They are playing outside',\n",
    "    'The cat is sleeping',\n",
    "    'The dog is barking',\n",
    "    'I am hungry',\n",
    "    'She is thirsty',\n",
    "    'They are tired',\n",
    "    'The cat is playing with the mouse',\n",
    "    'The dog is eating',\n",
    "]"
   ]
  },
  {
   "cell_type": "code",
   "execution_count": 3,
   "metadata": {},
   "outputs": [],
   "source": [
    "voc_size = 10000"
   ]
  },
  {
   "cell_type": "code",
   "execution_count": 4,
   "metadata": {},
   "outputs": [],
   "source": [
    "one_hot_repr = [one_hot(words, voc_size) for words in sent]"
   ]
  },
  {
   "cell_type": "code",
   "execution_count": 5,
   "metadata": {},
   "outputs": [
    {
     "data": {
      "text/plain": [
       "[[9774, 1396, 9338, 6281, 4693, 6295, 9774, 3545, 8707],\n",
       " [5432, 9768, 1776, 8707],\n",
       " [8372, 6395, 8663, 9814],\n",
       " [3329, 4702, 1992, 666],\n",
       " [9774, 9814, 1605, 8532],\n",
       " [9774, 8707, 1605, 8051],\n",
       " [5432, 7661, 5266],\n",
       " [8372, 1605, 937],\n",
       " [3329, 4702, 3450],\n",
       " [9774, 9814, 1605, 1992, 9882, 9774, 5158],\n",
       " [9774, 8707, 1605, 6356]]"
      ]
     },
     "execution_count": 5,
     "metadata": {},
     "output_type": "execute_result"
    }
   ],
   "source": [
    "one_hot_repr"
   ]
  },
  {
   "cell_type": "code",
   "execution_count": 6,
   "metadata": {},
   "outputs": [],
   "source": [
    "#Word embedding representation\n",
    "\n",
    "from tensorflow.keras.layers import Embedding\n",
    "from tensorflow.keras.utils import pad_sequences\n",
    "from tensorflow.keras.models import Sequential\n",
    "import numpy as np"
   ]
  },
  {
   "cell_type": "code",
   "execution_count": 7,
   "metadata": {},
   "outputs": [],
   "source": [
    "#making all sentences of the same size\n",
    "sent_length = 10\n",
    "embedded_docs = pad_sequences(one_hot_repr, padding='pre', maxlen=sent_length)"
   ]
  },
  {
   "cell_type": "code",
   "execution_count": 8,
   "metadata": {},
   "outputs": [
    {
     "data": {
      "text/plain": [
       "array([[   0, 9774, 1396, 9338, 6281, 4693, 6295, 9774, 3545, 8707],\n",
       "       [   0,    0,    0,    0,    0,    0, 5432, 9768, 1776, 8707],\n",
       "       [   0,    0,    0,    0,    0,    0, 8372, 6395, 8663, 9814],\n",
       "       [   0,    0,    0,    0,    0,    0, 3329, 4702, 1992,  666],\n",
       "       [   0,    0,    0,    0,    0,    0, 9774, 9814, 1605, 8532],\n",
       "       [   0,    0,    0,    0,    0,    0, 9774, 8707, 1605, 8051],\n",
       "       [   0,    0,    0,    0,    0,    0,    0, 5432, 7661, 5266],\n",
       "       [   0,    0,    0,    0,    0,    0,    0, 8372, 1605,  937],\n",
       "       [   0,    0,    0,    0,    0,    0,    0, 3329, 4702, 3450],\n",
       "       [   0,    0,    0, 9774, 9814, 1605, 1992, 9882, 9774, 5158],\n",
       "       [   0,    0,    0,    0,    0,    0, 9774, 8707, 1605, 6356]],\n",
       "      dtype=int32)"
      ]
     },
     "execution_count": 8,
     "metadata": {},
     "output_type": "execute_result"
    }
   ],
   "source": [
    "embedded_docs"
   ]
  },
  {
   "cell_type": "code",
   "execution_count": 9,
   "metadata": {},
   "outputs": [],
   "source": [
    "#Feature representation \n",
    "dim = 10\n"
   ]
  },
  {
   "cell_type": "code",
   "execution_count": 12,
   "metadata": {},
   "outputs": [
    {
     "data": {
      "text/html": [
       "<pre style=\"white-space:pre;overflow-x:auto;line-height:normal;font-family:Menlo,'DejaVu Sans Mono',consolas,'Courier New',monospace\"><span style=\"font-weight: bold\">Model: \"functional\"</span>\n",
       "</pre>\n"
      ],
      "text/plain": [
       "\u001b[1mModel: \"functional\"\u001b[0m\n"
      ]
     },
     "metadata": {},
     "output_type": "display_data"
    },
    {
     "data": {
      "text/html": [
       "<pre style=\"white-space:pre;overflow-x:auto;line-height:normal;font-family:Menlo,'DejaVu Sans Mono',consolas,'Courier New',monospace\">┏━━━━━━━━━━━━━━━━━━━━━━━━━━━━━━━━━┳━━━━━━━━━━━━━━━━━━━━━━━━┳━━━━━━━━━━━━━━━┓\n",
       "┃<span style=\"font-weight: bold\"> Layer (type)                    </span>┃<span style=\"font-weight: bold\"> Output Shape           </span>┃<span style=\"font-weight: bold\">       Param # </span>┃\n",
       "┡━━━━━━━━━━━━━━━━━━━━━━━━━━━━━━━━━╇━━━━━━━━━━━━━━━━━━━━━━━━╇━━━━━━━━━━━━━━━┩\n",
       "│ input_layer (<span style=\"color: #0087ff; text-decoration-color: #0087ff\">InputLayer</span>)        │ (<span style=\"color: #00d7ff; text-decoration-color: #00d7ff\">None</span>, <span style=\"color: #00af00; text-decoration-color: #00af00\">10</span>)             │             <span style=\"color: #00af00; text-decoration-color: #00af00\">0</span> │\n",
       "├─────────────────────────────────┼────────────────────────┼───────────────┤\n",
       "│ embedding_1 (<span style=\"color: #0087ff; text-decoration-color: #0087ff\">Embedding</span>)         │ (<span style=\"color: #00d7ff; text-decoration-color: #00d7ff\">None</span>, <span style=\"color: #00af00; text-decoration-color: #00af00\">10</span>, <span style=\"color: #00af00; text-decoration-color: #00af00\">10</span>)         │       <span style=\"color: #00af00; text-decoration-color: #00af00\">100,000</span> │\n",
       "└─────────────────────────────────┴────────────────────────┴───────────────┘\n",
       "</pre>\n"
      ],
      "text/plain": [
       "┏━━━━━━━━━━━━━━━━━━━━━━━━━━━━━━━━━┳━━━━━━━━━━━━━━━━━━━━━━━━┳━━━━━━━━━━━━━━━┓\n",
       "┃\u001b[1m \u001b[0m\u001b[1mLayer (type)                   \u001b[0m\u001b[1m \u001b[0m┃\u001b[1m \u001b[0m\u001b[1mOutput Shape          \u001b[0m\u001b[1m \u001b[0m┃\u001b[1m \u001b[0m\u001b[1m      Param #\u001b[0m\u001b[1m \u001b[0m┃\n",
       "┡━━━━━━━━━━━━━━━━━━━━━━━━━━━━━━━━━╇━━━━━━━━━━━━━━━━━━━━━━━━╇━━━━━━━━━━━━━━━┩\n",
       "│ input_layer (\u001b[38;5;33mInputLayer\u001b[0m)        │ (\u001b[38;5;45mNone\u001b[0m, \u001b[38;5;34m10\u001b[0m)             │             \u001b[38;5;34m0\u001b[0m │\n",
       "├─────────────────────────────────┼────────────────────────┼───────────────┤\n",
       "│ embedding_1 (\u001b[38;5;33mEmbedding\u001b[0m)         │ (\u001b[38;5;45mNone\u001b[0m, \u001b[38;5;34m10\u001b[0m, \u001b[38;5;34m10\u001b[0m)         │       \u001b[38;5;34m100,000\u001b[0m │\n",
       "└─────────────────────────────────┴────────────────────────┴───────────────┘\n"
      ]
     },
     "metadata": {},
     "output_type": "display_data"
    },
    {
     "data": {
      "text/html": [
       "<pre style=\"white-space:pre;overflow-x:auto;line-height:normal;font-family:Menlo,'DejaVu Sans Mono',consolas,'Courier New',monospace\"><span style=\"font-weight: bold\"> Total params: </span><span style=\"color: #00af00; text-decoration-color: #00af00\">100,000</span> (390.62 KB)\n",
       "</pre>\n"
      ],
      "text/plain": [
       "\u001b[1m Total params: \u001b[0m\u001b[38;5;34m100,000\u001b[0m (390.62 KB)\n"
      ]
     },
     "metadata": {},
     "output_type": "display_data"
    },
    {
     "data": {
      "text/html": [
       "<pre style=\"white-space:pre;overflow-x:auto;line-height:normal;font-family:Menlo,'DejaVu Sans Mono',consolas,'Courier New',monospace\"><span style=\"font-weight: bold\"> Trainable params: </span><span style=\"color: #00af00; text-decoration-color: #00af00\">100,000</span> (390.62 KB)\n",
       "</pre>\n"
      ],
      "text/plain": [
       "\u001b[1m Trainable params: \u001b[0m\u001b[38;5;34m100,000\u001b[0m (390.62 KB)\n"
      ]
     },
     "metadata": {},
     "output_type": "display_data"
    },
    {
     "data": {
      "text/html": [
       "<pre style=\"white-space:pre;overflow-x:auto;line-height:normal;font-family:Menlo,'DejaVu Sans Mono',consolas,'Courier New',monospace\"><span style=\"font-weight: bold\"> Non-trainable params: </span><span style=\"color: #00af00; text-decoration-color: #00af00\">0</span> (0.00 B)\n",
       "</pre>\n"
      ],
      "text/plain": [
       "\u001b[1m Non-trainable params: \u001b[0m\u001b[38;5;34m0\u001b[0m (0.00 B)\n"
      ]
     },
     "metadata": {},
     "output_type": "display_data"
    }
   ],
   "source": [
    "\n",
    "\n",
    "from tensorflow.keras.models import Model\n",
    "from tensorflow.keras.layers import Input, Embedding\n",
    "\n",
    "# Define the input\n",
    "inputs = Input(shape=(sent_length,))  # Input shape should match the sentence length\n",
    "\n",
    "# Embedding layer\n",
    "x = Embedding(voc_size, dim, input_length=sent_length)(inputs)\n",
    "\n",
    "# Create the model\n",
    "model = Model(inputs=inputs, outputs=x)\n",
    "\n",
    "# Compile the model with optimizer, loss, and metrics\n",
    "model.compile(optimizer='adam', loss='mse', metrics=['accuracy'])\n",
    "\n",
    "# Display the model summary\n",
    "model.summary()\n"
   ]
  },
  {
   "cell_type": "code",
   "execution_count": 13,
   "metadata": {},
   "outputs": [
    {
     "data": {
      "text/html": [
       "<pre style=\"white-space:pre;overflow-x:auto;line-height:normal;font-family:Menlo,'DejaVu Sans Mono',consolas,'Courier New',monospace\"><span style=\"font-weight: bold\">Model: \"functional\"</span>\n",
       "</pre>\n"
      ],
      "text/plain": [
       "\u001b[1mModel: \"functional\"\u001b[0m\n"
      ]
     },
     "metadata": {},
     "output_type": "display_data"
    },
    {
     "data": {
      "text/html": [
       "<pre style=\"white-space:pre;overflow-x:auto;line-height:normal;font-family:Menlo,'DejaVu Sans Mono',consolas,'Courier New',monospace\">┏━━━━━━━━━━━━━━━━━━━━━━━━━━━━━━━━━┳━━━━━━━━━━━━━━━━━━━━━━━━┳━━━━━━━━━━━━━━━┓\n",
       "┃<span style=\"font-weight: bold\"> Layer (type)                    </span>┃<span style=\"font-weight: bold\"> Output Shape           </span>┃<span style=\"font-weight: bold\">       Param # </span>┃\n",
       "┡━━━━━━━━━━━━━━━━━━━━━━━━━━━━━━━━━╇━━━━━━━━━━━━━━━━━━━━━━━━╇━━━━━━━━━━━━━━━┩\n",
       "│ input_layer (<span style=\"color: #0087ff; text-decoration-color: #0087ff\">InputLayer</span>)        │ (<span style=\"color: #00d7ff; text-decoration-color: #00d7ff\">None</span>, <span style=\"color: #00af00; text-decoration-color: #00af00\">10</span>)             │             <span style=\"color: #00af00; text-decoration-color: #00af00\">0</span> │\n",
       "├─────────────────────────────────┼────────────────────────┼───────────────┤\n",
       "│ embedding_1 (<span style=\"color: #0087ff; text-decoration-color: #0087ff\">Embedding</span>)         │ (<span style=\"color: #00d7ff; text-decoration-color: #00d7ff\">None</span>, <span style=\"color: #00af00; text-decoration-color: #00af00\">10</span>, <span style=\"color: #00af00; text-decoration-color: #00af00\">10</span>)         │       <span style=\"color: #00af00; text-decoration-color: #00af00\">100,000</span> │\n",
       "└─────────────────────────────────┴────────────────────────┴───────────────┘\n",
       "</pre>\n"
      ],
      "text/plain": [
       "┏━━━━━━━━━━━━━━━━━━━━━━━━━━━━━━━━━┳━━━━━━━━━━━━━━━━━━━━━━━━┳━━━━━━━━━━━━━━━┓\n",
       "┃\u001b[1m \u001b[0m\u001b[1mLayer (type)                   \u001b[0m\u001b[1m \u001b[0m┃\u001b[1m \u001b[0m\u001b[1mOutput Shape          \u001b[0m\u001b[1m \u001b[0m┃\u001b[1m \u001b[0m\u001b[1m      Param #\u001b[0m\u001b[1m \u001b[0m┃\n",
       "┡━━━━━━━━━━━━━━━━━━━━━━━━━━━━━━━━━╇━━━━━━━━━━━━━━━━━━━━━━━━╇━━━━━━━━━━━━━━━┩\n",
       "│ input_layer (\u001b[38;5;33mInputLayer\u001b[0m)        │ (\u001b[38;5;45mNone\u001b[0m, \u001b[38;5;34m10\u001b[0m)             │             \u001b[38;5;34m0\u001b[0m │\n",
       "├─────────────────────────────────┼────────────────────────┼───────────────┤\n",
       "│ embedding_1 (\u001b[38;5;33mEmbedding\u001b[0m)         │ (\u001b[38;5;45mNone\u001b[0m, \u001b[38;5;34m10\u001b[0m, \u001b[38;5;34m10\u001b[0m)         │       \u001b[38;5;34m100,000\u001b[0m │\n",
       "└─────────────────────────────────┴────────────────────────┴───────────────┘\n"
      ]
     },
     "metadata": {},
     "output_type": "display_data"
    },
    {
     "data": {
      "text/html": [
       "<pre style=\"white-space:pre;overflow-x:auto;line-height:normal;font-family:Menlo,'DejaVu Sans Mono',consolas,'Courier New',monospace\"><span style=\"font-weight: bold\"> Total params: </span><span style=\"color: #00af00; text-decoration-color: #00af00\">100,000</span> (390.62 KB)\n",
       "</pre>\n"
      ],
      "text/plain": [
       "\u001b[1m Total params: \u001b[0m\u001b[38;5;34m100,000\u001b[0m (390.62 KB)\n"
      ]
     },
     "metadata": {},
     "output_type": "display_data"
    },
    {
     "data": {
      "text/html": [
       "<pre style=\"white-space:pre;overflow-x:auto;line-height:normal;font-family:Menlo,'DejaVu Sans Mono',consolas,'Courier New',monospace\"><span style=\"font-weight: bold\"> Trainable params: </span><span style=\"color: #00af00; text-decoration-color: #00af00\">100,000</span> (390.62 KB)\n",
       "</pre>\n"
      ],
      "text/plain": [
       "\u001b[1m Trainable params: \u001b[0m\u001b[38;5;34m100,000\u001b[0m (390.62 KB)\n"
      ]
     },
     "metadata": {},
     "output_type": "display_data"
    },
    {
     "data": {
      "text/html": [
       "<pre style=\"white-space:pre;overflow-x:auto;line-height:normal;font-family:Menlo,'DejaVu Sans Mono',consolas,'Courier New',monospace\"><span style=\"font-weight: bold\"> Non-trainable params: </span><span style=\"color: #00af00; text-decoration-color: #00af00\">0</span> (0.00 B)\n",
       "</pre>\n"
      ],
      "text/plain": [
       "\u001b[1m Non-trainable params: \u001b[0m\u001b[38;5;34m0\u001b[0m (0.00 B)\n"
      ]
     },
     "metadata": {},
     "output_type": "display_data"
    }
   ],
   "source": [
    "model.summary()"
   ]
  },
  {
   "cell_type": "code",
   "execution_count": 14,
   "metadata": {},
   "outputs": [
    {
     "name": "stdout",
     "output_type": "stream",
     "text": [
      "\u001b[1m1/1\u001b[0m \u001b[32m━━━━━━━━━━━━━━━━━━━━\u001b[0m\u001b[37m\u001b[0m \u001b[1m0s\u001b[0m 57ms/step\n"
     ]
    },
    {
     "data": {
      "text/plain": [
       "array([[[ 0.04501564, -0.03353045, -0.0398403 , ..., -0.01543595,\n",
       "         -0.04326865, -0.01846619],\n",
       "        [ 0.00202153, -0.00067431,  0.03110835, ..., -0.02173481,\n",
       "          0.03276492,  0.01647422],\n",
       "        [-0.03778998,  0.01628229,  0.01894705, ..., -0.00998114,\n",
       "         -0.04115205, -0.00860079],\n",
       "        ...,\n",
       "        [ 0.00202153, -0.00067431,  0.03110835, ..., -0.02173481,\n",
       "          0.03276492,  0.01647422],\n",
       "        [ 0.04140585, -0.04565802,  0.00689939, ..., -0.03599383,\n",
       "         -0.03492529, -0.02338375],\n",
       "        [ 0.01073635,  0.00340978,  0.01747953, ..., -0.02371273,\n",
       "          0.03235004, -0.04734092]],\n",
       "\n",
       "       [[ 0.04501564, -0.03353045, -0.0398403 , ..., -0.01543595,\n",
       "         -0.04326865, -0.01846619],\n",
       "        [ 0.04501564, -0.03353045, -0.0398403 , ..., -0.01543595,\n",
       "         -0.04326865, -0.01846619],\n",
       "        [ 0.04501564, -0.03353045, -0.0398403 , ..., -0.01543595,\n",
       "         -0.04326865, -0.01846619],\n",
       "        ...,\n",
       "        [-0.0178171 ,  0.04796917,  0.04112582, ...,  0.04231384,\n",
       "          0.03315178,  0.01639124],\n",
       "        [-0.04443529,  0.02913613, -0.00952752, ...,  0.04953535,\n",
       "         -0.04000523,  0.02374151],\n",
       "        [ 0.01073635,  0.00340978,  0.01747953, ..., -0.02371273,\n",
       "          0.03235004, -0.04734092]],\n",
       "\n",
       "       [[ 0.04501564, -0.03353045, -0.0398403 , ..., -0.01543595,\n",
       "         -0.04326865, -0.01846619],\n",
       "        [ 0.04501564, -0.03353045, -0.0398403 , ..., -0.01543595,\n",
       "         -0.04326865, -0.01846619],\n",
       "        [ 0.04501564, -0.03353045, -0.0398403 , ..., -0.01543595,\n",
       "         -0.04326865, -0.01846619],\n",
       "        ...,\n",
       "        [-0.03907349,  0.0312713 ,  0.02476393, ..., -0.03993708,\n",
       "          0.01982988,  0.03888495],\n",
       "        [ 0.01971653, -0.04371855,  0.01696576, ...,  0.03157062,\n",
       "          0.03869737,  0.03466696],\n",
       "        [-0.04746202, -0.04694062,  0.02003783, ...,  0.03673108,\n",
       "          0.00666399, -0.01131214]],\n",
       "\n",
       "       ...,\n",
       "\n",
       "       [[ 0.04501564, -0.03353045, -0.0398403 , ..., -0.01543595,\n",
       "         -0.04326865, -0.01846619],\n",
       "        [ 0.04501564, -0.03353045, -0.0398403 , ..., -0.01543595,\n",
       "         -0.04326865, -0.01846619],\n",
       "        [ 0.04501564, -0.03353045, -0.0398403 , ..., -0.01543595,\n",
       "         -0.04326865, -0.01846619],\n",
       "        ...,\n",
       "        [ 0.04784415,  0.04009879, -0.01739806, ..., -0.01866698,\n",
       "         -0.03897755, -0.04052193],\n",
       "        [-0.03658352, -0.04998721,  0.04448247, ...,  0.00394368,\n",
       "         -0.02942634, -0.03490561],\n",
       "        [-0.00902782, -0.00642119, -0.00499944, ..., -0.04635346,\n",
       "         -0.00309791,  0.00906508]],\n",
       "\n",
       "       [[ 0.04501564, -0.03353045, -0.0398403 , ..., -0.01543595,\n",
       "         -0.04326865, -0.01846619],\n",
       "        [ 0.04501564, -0.03353045, -0.0398403 , ..., -0.01543595,\n",
       "         -0.04326865, -0.01846619],\n",
       "        [ 0.04501564, -0.03353045, -0.0398403 , ..., -0.01543595,\n",
       "         -0.04326865, -0.01846619],\n",
       "        ...,\n",
       "        [-0.02800015, -0.04968953,  0.04380171, ...,  0.02219692,\n",
       "         -0.02601655, -0.04223566],\n",
       "        [ 0.00202153, -0.00067431,  0.03110835, ..., -0.02173481,\n",
       "          0.03276492,  0.01647422],\n",
       "        [ 0.00250515, -0.00124613, -0.0327646 , ..., -0.00863408,\n",
       "          0.03159336, -0.00176781]],\n",
       "\n",
       "       [[ 0.04501564, -0.03353045, -0.0398403 , ..., -0.01543595,\n",
       "         -0.04326865, -0.01846619],\n",
       "        [ 0.04501564, -0.03353045, -0.0398403 , ..., -0.01543595,\n",
       "         -0.04326865, -0.01846619],\n",
       "        [ 0.04501564, -0.03353045, -0.0398403 , ..., -0.01543595,\n",
       "         -0.04326865, -0.01846619],\n",
       "        ...,\n",
       "        [ 0.01073635,  0.00340978,  0.01747953, ..., -0.02371273,\n",
       "          0.03235004, -0.04734092],\n",
       "        [ 0.02410387, -0.01803414, -0.03965366, ...,  0.02438715,\n",
       "         -0.00184099,  0.04950819],\n",
       "        [ 0.01917238,  0.03498567,  0.03322068, ...,  0.02090781,\n",
       "          0.02290548,  0.03394807]]], dtype=float32)"
      ]
     },
     "execution_count": 14,
     "metadata": {},
     "output_type": "execute_result"
    }
   ],
   "source": [
    "model.predict(embedded_docs)"
   ]
  },
  {
   "cell_type": "code",
   "execution_count": 15,
   "metadata": {},
   "outputs": [
    {
     "data": {
      "text/plain": [
       "array([   0, 9774, 1396, 9338, 6281, 4693, 6295, 9774, 3545, 8707],\n",
       "      dtype=int32)"
      ]
     },
     "execution_count": 15,
     "metadata": {},
     "output_type": "execute_result"
    }
   ],
   "source": [
    "embedded_docs[0]"
   ]
  }
 ],
 "metadata": {
  "kernelspec": {
   "display_name": "base",
   "language": "python",
   "name": "python3"
  },
  "language_info": {
   "codemirror_mode": {
    "name": "ipython",
    "version": 3
   },
   "file_extension": ".py",
   "mimetype": "text/x-python",
   "name": "python",
   "nbconvert_exporter": "python",
   "pygments_lexer": "ipython3",
   "version": "3.12.4"
  }
 },
 "nbformat": 4,
 "nbformat_minor": 2
}
