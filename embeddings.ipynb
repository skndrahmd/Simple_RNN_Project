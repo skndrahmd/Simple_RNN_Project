{
 "cells": [
  {
   "cell_type": "code",
   "execution_count": 5,
   "metadata": {},
   "outputs": [],
   "source": [
    "import tensorflow as tf \n",
    "from tensorflow.keras.preprocessing.text import one_hot\n"
   ]
  },
  {
   "cell_type": "code",
   "execution_count": 2,
   "metadata": {},
   "outputs": [],
   "source": [
    "sent = [\n",
    "    'The quick brown fox jumps over the lazy dog',\n",
    "    'I love my dog',\n",
    "    'She loves her cat',\n",
    "    'They are playing outside',\n",
    "    'The cat is sleeping',\n",
    "    'The dog is barking',\n",
    "    'I am hungry',\n",
    "    'She is thirsty',\n",
    "    'They are tired',\n",
    "    'The cat is playing with the mouse',\n",
    "    'The dog is eating',\n",
    "]"
   ]
  },
  {
   "cell_type": "code",
   "execution_count": 3,
   "metadata": {},
   "outputs": [],
   "source": [
    "voc_size = 10000"
   ]
  },
  {
   "cell_type": "code",
   "execution_count": 6,
   "metadata": {},
   "outputs": [],
   "source": [
    "one_hot_repr = [one_hot(words, voc_size) for words in sent]"
   ]
  },
  {
   "cell_type": "code",
   "execution_count": 7,
   "metadata": {},
   "outputs": [
    {
     "data": {
      "text/plain": [
       "[[2980, 9125, 5263, 2064, 9414, 1414, 2980, 9287, 4992],\n",
       " [8114, 1357, 609, 4992],\n",
       " [493, 3379, 4967, 5165],\n",
       " [2964, 6750, 9046, 4899],\n",
       " [2980, 5165, 637, 5006],\n",
       " [2980, 4992, 637, 3301],\n",
       " [8114, 1211, 3252],\n",
       " [493, 637, 9647],\n",
       " [2964, 6750, 8002],\n",
       " [2980, 5165, 637, 9046, 5647, 2980, 3776],\n",
       " [2980, 4992, 637, 8131]]"
      ]
     },
     "execution_count": 7,
     "metadata": {},
     "output_type": "execute_result"
    }
   ],
   "source": [
    "one_hot_repr"
   ]
  },
  {
   "cell_type": "code",
   "execution_count": 8,
   "metadata": {},
   "outputs": [],
   "source": [
    "#Word embedding representation\n",
    "\n",
    "from tensorflow.keras.layers import Embedding\n",
    "from tensorflow.keras.utils import pad_sequences\n",
    "from tensorflow.keras.models import Sequential\n",
    "import numpy as np"
   ]
  },
  {
   "cell_type": "code",
   "execution_count": 9,
   "metadata": {},
   "outputs": [],
   "source": [
    "#making all sentences of the same size\n",
    "sent_length = 10\n",
    "embedded_docs = pad_sequences(one_hot_repr, padding='pre', maxlen=sent_length)"
   ]
  },
  {
   "cell_type": "code",
   "execution_count": 10,
   "metadata": {},
   "outputs": [
    {
     "data": {
      "text/plain": [
       "array([[   0, 2980, 9125, 5263, 2064, 9414, 1414, 2980, 9287, 4992],\n",
       "       [   0,    0,    0,    0,    0,    0, 8114, 1357,  609, 4992],\n",
       "       [   0,    0,    0,    0,    0,    0,  493, 3379, 4967, 5165],\n",
       "       [   0,    0,    0,    0,    0,    0, 2964, 6750, 9046, 4899],\n",
       "       [   0,    0,    0,    0,    0,    0, 2980, 5165,  637, 5006],\n",
       "       [   0,    0,    0,    0,    0,    0, 2980, 4992,  637, 3301],\n",
       "       [   0,    0,    0,    0,    0,    0,    0, 8114, 1211, 3252],\n",
       "       [   0,    0,    0,    0,    0,    0,    0,  493,  637, 9647],\n",
       "       [   0,    0,    0,    0,    0,    0,    0, 2964, 6750, 8002],\n",
       "       [   0,    0,    0, 2980, 5165,  637, 9046, 5647, 2980, 3776],\n",
       "       [   0,    0,    0,    0,    0,    0, 2980, 4992,  637, 8131]],\n",
       "      dtype=int32)"
      ]
     },
     "execution_count": 10,
     "metadata": {},
     "output_type": "execute_result"
    }
   ],
   "source": [
    "embedded_docs"
   ]
  },
  {
   "cell_type": "code",
   "execution_count": 11,
   "metadata": {},
   "outputs": [],
   "source": [
    "#Feature representation \n",
    "dim = 10\n"
   ]
  },
  {
   "cell_type": "code",
   "execution_count": 12,
   "metadata": {},
   "outputs": [
    {
     "name": "stderr",
     "output_type": "stream",
     "text": [
      "/home/sikander/miniconda3/lib/python3.12/site-packages/keras/src/layers/core/embedding.py:90: UserWarning: Argument `input_length` is deprecated. Just remove it.\n",
      "  warnings.warn(\n"
     ]
    }
   ],
   "source": [
    "model = Sequential()\n",
    "model.add(Embedding(voc_size, dim, input_length=sent_length))\n",
    "model.compile('adam', loss='mse', metrics=['accuracy'])"
   ]
  },
  {
   "cell_type": "code",
   "execution_count": 13,
   "metadata": {},
   "outputs": [
    {
     "data": {
      "text/html": [
       "<pre style=\"white-space:pre;overflow-x:auto;line-height:normal;font-family:Menlo,'DejaVu Sans Mono',consolas,'Courier New',monospace\"><span style=\"font-weight: bold\">Model: \"sequential\"</span>\n",
       "</pre>\n"
      ],
      "text/plain": [
       "\u001b[1mModel: \"sequential\"\u001b[0m\n"
      ]
     },
     "metadata": {},
     "output_type": "display_data"
    },
    {
     "data": {
      "text/html": [
       "<pre style=\"white-space:pre;overflow-x:auto;line-height:normal;font-family:Menlo,'DejaVu Sans Mono',consolas,'Courier New',monospace\">┏━━━━━━━━━━━━━━━━━━━━━━━━━━━━━━━━━┳━━━━━━━━━━━━━━━━━━━━━━━━┳━━━━━━━━━━━━━━━┓\n",
       "┃<span style=\"font-weight: bold\"> Layer (type)                    </span>┃<span style=\"font-weight: bold\"> Output Shape           </span>┃<span style=\"font-weight: bold\">       Param # </span>┃\n",
       "┡━━━━━━━━━━━━━━━━━━━━━━━━━━━━━━━━━╇━━━━━━━━━━━━━━━━━━━━━━━━╇━━━━━━━━━━━━━━━┩\n",
       "│ embedding (<span style=\"color: #0087ff; text-decoration-color: #0087ff\">Embedding</span>)           │ ?                      │   <span style=\"color: #00af00; text-decoration-color: #00af00\">0</span> (unbuilt) │\n",
       "└─────────────────────────────────┴────────────────────────┴───────────────┘\n",
       "</pre>\n"
      ],
      "text/plain": [
       "┏━━━━━━━━━━━━━━━━━━━━━━━━━━━━━━━━━┳━━━━━━━━━━━━━━━━━━━━━━━━┳━━━━━━━━━━━━━━━┓\n",
       "┃\u001b[1m \u001b[0m\u001b[1mLayer (type)                   \u001b[0m\u001b[1m \u001b[0m┃\u001b[1m \u001b[0m\u001b[1mOutput Shape          \u001b[0m\u001b[1m \u001b[0m┃\u001b[1m \u001b[0m\u001b[1m      Param #\u001b[0m\u001b[1m \u001b[0m┃\n",
       "┡━━━━━━━━━━━━━━━━━━━━━━━━━━━━━━━━━╇━━━━━━━━━━━━━━━━━━━━━━━━╇━━━━━━━━━━━━━━━┩\n",
       "│ embedding (\u001b[38;5;33mEmbedding\u001b[0m)           │ ?                      │   \u001b[38;5;34m0\u001b[0m (unbuilt) │\n",
       "└─────────────────────────────────┴────────────────────────┴───────────────┘\n"
      ]
     },
     "metadata": {},
     "output_type": "display_data"
    },
    {
     "data": {
      "text/html": [
       "<pre style=\"white-space:pre;overflow-x:auto;line-height:normal;font-family:Menlo,'DejaVu Sans Mono',consolas,'Courier New',monospace\"><span style=\"font-weight: bold\"> Total params: </span><span style=\"color: #00af00; text-decoration-color: #00af00\">0</span> (0.00 B)\n",
       "</pre>\n"
      ],
      "text/plain": [
       "\u001b[1m Total params: \u001b[0m\u001b[38;5;34m0\u001b[0m (0.00 B)\n"
      ]
     },
     "metadata": {},
     "output_type": "display_data"
    },
    {
     "data": {
      "text/html": [
       "<pre style=\"white-space:pre;overflow-x:auto;line-height:normal;font-family:Menlo,'DejaVu Sans Mono',consolas,'Courier New',monospace\"><span style=\"font-weight: bold\"> Trainable params: </span><span style=\"color: #00af00; text-decoration-color: #00af00\">0</span> (0.00 B)\n",
       "</pre>\n"
      ],
      "text/plain": [
       "\u001b[1m Trainable params: \u001b[0m\u001b[38;5;34m0\u001b[0m (0.00 B)\n"
      ]
     },
     "metadata": {},
     "output_type": "display_data"
    },
    {
     "data": {
      "text/html": [
       "<pre style=\"white-space:pre;overflow-x:auto;line-height:normal;font-family:Menlo,'DejaVu Sans Mono',consolas,'Courier New',monospace\"><span style=\"font-weight: bold\"> Non-trainable params: </span><span style=\"color: #00af00; text-decoration-color: #00af00\">0</span> (0.00 B)\n",
       "</pre>\n"
      ],
      "text/plain": [
       "\u001b[1m Non-trainable params: \u001b[0m\u001b[38;5;34m0\u001b[0m (0.00 B)\n"
      ]
     },
     "metadata": {},
     "output_type": "display_data"
    }
   ],
   "source": [
    "model.summary()"
   ]
  },
  {
   "cell_type": "code",
   "execution_count": 14,
   "metadata": {},
   "outputs": [
    {
     "name": "stdout",
     "output_type": "stream",
     "text": [
      "\u001b[1m1/1\u001b[0m \u001b[32m━━━━━━━━━━━━━━━━━━━━\u001b[0m\u001b[37m\u001b[0m \u001b[1m0s\u001b[0m 81ms/step\n"
     ]
    },
    {
     "data": {
      "text/plain": [
       "array([[[ 0.03080307, -0.03068882, -0.00275769, ...,  0.0107101 ,\n",
       "         -0.00993683,  0.0439388 ],\n",
       "        [ 0.00275306, -0.02616031,  0.0414212 , ..., -0.03258442,\n",
       "         -0.04290713, -0.0145017 ],\n",
       "        [-0.00601779,  0.0250091 , -0.02717233, ...,  0.00896237,\n",
       "         -0.04629177,  0.00391597],\n",
       "        ...,\n",
       "        [ 0.00275306, -0.02616031,  0.0414212 , ..., -0.03258442,\n",
       "         -0.04290713, -0.0145017 ],\n",
       "        [-0.04055967, -0.0439168 ,  0.02290999, ..., -0.03330393,\n",
       "         -0.04838402, -0.01727171],\n",
       "        [ 0.03480877,  0.02061708,  0.00756855, ..., -0.02740966,\n",
       "         -0.02436264,  0.0357289 ]],\n",
       "\n",
       "       [[ 0.03080307, -0.03068882, -0.00275769, ...,  0.0107101 ,\n",
       "         -0.00993683,  0.0439388 ],\n",
       "        [ 0.03080307, -0.03068882, -0.00275769, ...,  0.0107101 ,\n",
       "         -0.00993683,  0.0439388 ],\n",
       "        [ 0.03080307, -0.03068882, -0.00275769, ...,  0.0107101 ,\n",
       "         -0.00993683,  0.0439388 ],\n",
       "        ...,\n",
       "        [ 0.04531444, -0.04743056,  0.02996648, ..., -0.02487224,\n",
       "          0.04043004,  0.02355195],\n",
       "        [ 0.02790797,  0.03457547,  0.01424703, ...,  0.02910299,\n",
       "         -0.03321233,  0.04723623],\n",
       "        [ 0.03480877,  0.02061708,  0.00756855, ..., -0.02740966,\n",
       "         -0.02436264,  0.0357289 ]],\n",
       "\n",
       "       [[ 0.03080307, -0.03068882, -0.00275769, ...,  0.0107101 ,\n",
       "         -0.00993683,  0.0439388 ],\n",
       "        [ 0.03080307, -0.03068882, -0.00275769, ...,  0.0107101 ,\n",
       "         -0.00993683,  0.0439388 ],\n",
       "        [ 0.03080307, -0.03068882, -0.00275769, ...,  0.0107101 ,\n",
       "         -0.00993683,  0.0439388 ],\n",
       "        ...,\n",
       "        [-0.04876941, -0.04829636, -0.02379165, ..., -0.02329738,\n",
       "          0.02329135, -0.02385526],\n",
       "        [ 0.00789238, -0.04733441, -0.04841025, ..., -0.00637869,\n",
       "          0.03753253,  0.00732374],\n",
       "        [ 0.0485341 , -0.04485612, -0.01993899, ...,  0.00434057,\n",
       "         -0.04791757,  0.00597962]],\n",
       "\n",
       "       ...,\n",
       "\n",
       "       [[ 0.03080307, -0.03068882, -0.00275769, ...,  0.0107101 ,\n",
       "         -0.00993683,  0.0439388 ],\n",
       "        [ 0.03080307, -0.03068882, -0.00275769, ...,  0.0107101 ,\n",
       "         -0.00993683,  0.0439388 ],\n",
       "        [ 0.03080307, -0.03068882, -0.00275769, ...,  0.0107101 ,\n",
       "         -0.00993683,  0.0439388 ],\n",
       "        ...,\n",
       "        [ 0.0467654 ,  0.01924746, -0.02082053, ..., -0.00115458,\n",
       "         -0.04140688,  0.0459476 ],\n",
       "        [-0.01045071,  0.0383528 , -0.03173169, ...,  0.01824274,\n",
       "          0.01525331,  0.03572816],\n",
       "        [ 0.02366826, -0.03000344,  0.01516142, ...,  0.03438181,\n",
       "         -0.03832202,  0.00743013]],\n",
       "\n",
       "       [[ 0.03080307, -0.03068882, -0.00275769, ...,  0.0107101 ,\n",
       "         -0.00993683,  0.0439388 ],\n",
       "        [ 0.03080307, -0.03068882, -0.00275769, ...,  0.0107101 ,\n",
       "         -0.00993683,  0.0439388 ],\n",
       "        [ 0.03080307, -0.03068882, -0.00275769, ...,  0.0107101 ,\n",
       "         -0.00993683,  0.0439388 ],\n",
       "        ...,\n",
       "        [-0.03503903, -0.00409573,  0.00667231, ..., -0.04618466,\n",
       "         -0.01685319, -0.02134013],\n",
       "        [ 0.00275306, -0.02616031,  0.0414212 , ..., -0.03258442,\n",
       "         -0.04290713, -0.0145017 ],\n",
       "        [-0.00595127,  0.02549011,  0.04743177, ..., -0.01833433,\n",
       "         -0.02292522, -0.02127073]],\n",
       "\n",
       "       [[ 0.03080307, -0.03068882, -0.00275769, ...,  0.0107101 ,\n",
       "         -0.00993683,  0.0439388 ],\n",
       "        [ 0.03080307, -0.03068882, -0.00275769, ...,  0.0107101 ,\n",
       "         -0.00993683,  0.0439388 ],\n",
       "        [ 0.03080307, -0.03068882, -0.00275769, ...,  0.0107101 ,\n",
       "         -0.00993683,  0.0439388 ],\n",
       "        ...,\n",
       "        [ 0.03480877,  0.02061708,  0.00756855, ..., -0.02740966,\n",
       "         -0.02436264,  0.0357289 ],\n",
       "        [ 0.01833532,  0.00254141, -0.00378678, ...,  0.03888709,\n",
       "          0.01216225, -0.04353873],\n",
       "        [-0.01661539,  0.01163126,  0.00643381, ..., -0.0388476 ,\n",
       "          0.01065376,  0.02502454]]], dtype=float32)"
      ]
     },
     "execution_count": 14,
     "metadata": {},
     "output_type": "execute_result"
    }
   ],
   "source": [
    "model.predict(embedded_docs)"
   ]
  },
  {
   "cell_type": "code",
   "execution_count": 15,
   "metadata": {},
   "outputs": [
    {
     "data": {
      "text/plain": [
       "array([   0, 2980, 9125, 5263, 2064, 9414, 1414, 2980, 9287, 4992],\n",
       "      dtype=int32)"
      ]
     },
     "execution_count": 15,
     "metadata": {},
     "output_type": "execute_result"
    }
   ],
   "source": [
    "embedded_docs[0]"
   ]
  }
 ],
 "metadata": {
  "kernelspec": {
   "display_name": "base",
   "language": "python",
   "name": "python3"
  },
  "language_info": {
   "codemirror_mode": {
    "name": "ipython",
    "version": 3
   },
   "file_extension": ".py",
   "mimetype": "text/x-python",
   "name": "python",
   "nbconvert_exporter": "python",
   "pygments_lexer": "ipython3",
   "version": "3.12.4"
  }
 },
 "nbformat": 4,
 "nbformat_minor": 2
}
